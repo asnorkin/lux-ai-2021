{
 "cells": [
  {
   "cell_type": "code",
   "execution_count": 1,
   "id": "47196cc6",
   "metadata": {},
   "outputs": [],
   "source": [
    "%load_ext autoreload\n",
    "%autoreload 2"
   ]
  },
  {
   "cell_type": "code",
   "execution_count": 2,
   "id": "00e15761",
   "metadata": {},
   "outputs": [],
   "source": [
    "import pickle\n",
    "from agent import game_logic\n",
    "\n",
    "str_step = \"090\"\n",
    "with open('snapshots/game_state-{}.pkl'.format(str_step), 'rb') as handle:\n",
    "    game_state = pickle.load(handle)\n",
    "with open('snapshots/missions-{}.pkl'.format(str_step), 'rb') as handle:\n",
    "    missions = pickle.load(handle)"
   ]
  },
  {
   "cell_type": "code",
   "execution_count": 3,
   "id": "326ecbf3",
   "metadata": {},
   "outputs": [
    {
     "name": "stdout",
     "output_type": "stream",
     "text": [
      "unit_limit_exceeded c_18 (6, 6)\n",
      "research (6, 6)\n",
      "build_worker c_18 5 5 1 10\n",
      "plan mission adaptative u_1 (7, 6) -> (0, 6)\n",
      "plan mission adaptative u_6 (6, 5) -> (0, 5)\n",
      "plan mission adaptative u_7 (5, 5) -> (1, 3)\n",
      "plan mission adaptative u_9 (7, 3) -> (0, 2)\n",
      "plan mission adaptative u_10 (4, 4) -> (0, 4)\n",
      "plan mission adaptative u_14 (8, 5) -> (0, 3)\n",
      "plan mission adaptative u_16 (6, 4) -> (7, 4)\n",
      "check False 6 20 True\n",
      "plan mission to build citytile u_18 (7, 4) -> (1, 4)\n",
      "attempting action for u_1 (7, 6)\n",
      "attempting action for u_3 (1, 4)\n",
      "location reached and make action u_3 (1, 4)\n",
      "attempting action for u_4 (1, 8)\n",
      "location reached and make action u_4 (1, 8)\n",
      "attempting action for u_6 (6, 5)\n",
      "make move u_6 (6, 5) w\n",
      "attempting action for u_7 (5, 5)\n",
      "make move u_7 (5, 5) w\n",
      "attempting action for u_9 (7, 3)\n",
      "make move u_9 (7, 3) w\n",
      "attempting action for u_10 (4, 4)\n",
      "attempting action for u_14 (8, 5)\n",
      "attempting action for u_16 (6, 4)\n",
      "attempting action for u_17 (2, 6)\n",
      "make move u_17 (2, 6) s\n",
      "attempting action for u_18 (7, 4)\n",
      "attempting action for u_1 (7, 6)\n",
      "attempting action for u_10 (4, 4)\n",
      "attempting action for u_14 (8, 5)\n",
      "attempting action for u_16 (6, 4)\n",
      "attempting action for u_18 (7, 4)\n",
      "actions_by_cities ['r 6 6', 'bw 5 5']\n",
      "actions_by_units ['m u_6 w', 'm u_7 w', 'm u_9 w', 'm u_17 s']\n",
      "mission_annotations ['dl 3 4 4 4', 'dx 4 4', 'dl 1 4 1 4', 'dx 1 4', 'dl 1 8 1 8', 'dx 1 8', 'dl 2 6 0 8', 'dx 0 8', 'dl 7 9 0 9', 'dx 0 9', 'dl 7 8 0 7', 'dx 0 7', 'dl 7 7 1 7', 'dx 1 7', 'dl 5 4 5 4', 'dx 5 4', 'dl 7 6 0 6', 'dx 0 6', 'dl 6 5 0 5', 'dx 0 5', 'dl 5 5 1 3', 'dx 1 3', 'dl 7 3 0 2', 'dx 0 2', 'dl 4 4 0 4', 'dx 0 4', 'dl 8 5 0 3', 'dx 0 3', 'dl 6 4 7 4', 'dx 7 4', 'dl 7 4 1 4', 'dc 1 4', \"dst 'U:16 C:17 L:3/3 T:6.509'\"]\n",
      "movement_annotations ['dl 6 5 5 5', 'dl 5 5 4 5', 'dl 7 3 6 3', 'dl 2 6 2 7']\n"
     ]
    }
   ],
   "source": [
    "_ = game_logic(game_state, missions, DEBUG=True)"
   ]
  },
  {
   "cell_type": "code",
   "execution_count": 4,
   "id": "e9ba1a05",
   "metadata": {},
   "outputs": [
    {
     "name": "stdout",
     "output_type": "stream",
     "text": [
      "[[0 0 0 0 0 0 0 0 0 0 0 0]\n",
      " [0 0 0 0 0 0 0 0 0 0 0 0]\n",
      " [1 0 0 0 0 0 0 0 0 0 0 0]\n",
      " [2 1 0 0 0 1 0 1 0 0 0 0]\n",
      " [2 1 0 0 1 1 2 1 1 0 0 0]\n",
      " [1 0 0 0 0 1 0 1 0 0 0 0]\n",
      " [1 0 0 0 0 0 0 0 0 0 0 0]\n",
      " [2 1 0 0 0 0 0 0 0 0 0 0]\n",
      " [2 1 0 0 0 0 0 0 0 0 0 0]\n",
      " [1 0 0 0 0 0 0 0 0 0 0 0]\n",
      " [0 0 0 0 0 0 0 0 0 0 0 0]\n",
      " [0 0 0 0 0 0 0 0 0 0 0 0]]\n"
     ]
    }
   ],
   "source": [
    "import numpy as np\n",
    "print(game_state.convolved_collectable_tiles_matrix)"
   ]
  },
  {
   "cell_type": "code",
   "execution_count": null,
   "id": "c460948b",
   "metadata": {},
   "outputs": [],
   "source": []
  }
 ],
 "metadata": {
  "kernelspec": {
   "display_name": "Python [conda env:lux-ai] *",
   "language": "python",
   "name": "conda-env-lux-ai-py"
  },
  "language_info": {
   "codemirror_mode": {
    "name": "ipython",
    "version": 3
   },
   "file_extension": ".py",
   "mimetype": "text/x-python",
   "name": "python",
   "nbconvert_exporter": "python",
   "pygments_lexer": "ipython3",
   "version": "3.9.6"
  }
 },
 "nbformat": 4,
 "nbformat_minor": 5
}
